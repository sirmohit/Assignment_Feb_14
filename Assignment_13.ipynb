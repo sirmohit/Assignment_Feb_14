{
 "cells": [
  {
   "cell_type": "markdown",
   "id": "b0077df6",
   "metadata": {},
   "source": [
    "Q1. What is multithreading in python? Why is it used? Name the module used to handle threads in python.\n",
    "\n",
    "Ans : Multithreading:- Multithreading is mechanism which is use to divide a program into mutiple task and execute them \n",
    "                       paralaly.This makes the execution faster as compared to single thread. The operating system is \n",
    "                       capable of handling multiple processes concurrently.\n",
    "    Why it is used?\n",
    "    Ans: It is used to make the system faster to complete the task with less memory.\n",
    "         It is used to achieve Concurrency ,Resposiveness ,Resource Utilization  and Parallelism.\n",
    "            \n",
    "    Modules used to hadle threads in python is \"threading module\". "
   ]
  },
  {
   "cell_type": "markdown",
   "id": "917a226f",
   "metadata": {},
   "source": [
    "Q2. Why threading module used? Write the use of the following functions.\n",
    "    a)activeCount()\n",
    "    b)currentThread()\n",
    "    c)enumerate()\n",
    "    \n",
    "Ans: The threading module in Python is used to create and manage threads.\n",
    "     It provides a high-level, object-oriented interface for working with threads,\n",
    "     allowing developers to write concurrent programs more easily.\n",
    "    \n",
    "    Use of the follwing functions are:\n",
    "    a)activeCount():This function returns the count of alive or running thread object.\n",
    "    b)currentThread():This function returns the current Thread object, representing the thread that calls this function.\n",
    "                      It's useful for identifying the current thread'sproperties, such as its name or identification number.\n",
    "    c)enumerate():This function returns a list of all Thread objects that are currently alive. It's useful for inspecting or\n",
    "                  managing all active threads in a program."
   ]
  },
  {
   "cell_type": "markdown",
   "id": "5156c1f6",
   "metadata": {},
   "source": [
    "Q3. Explain the following functions\n",
    " run()\n",
    " start()\n",
    " join()\n",
    " isAlive()\n",
    "\n",
    "Ans:run() : run() method executes any target function belonging to a given thread object that is now active.\n",
    "           It normally executes in the background after the . start() method is invoked.\n",
    "            \n",
    "    start() :The start() method is used to start the execution of a thread.\n",
    "             After calling the start() method, which internally starts a new thread and invokes the run() method.\n",
    "            \n",
    "    join() : The join() method is used to block the calling thread until the thread on which it's called is terminated. \n",
    "        \n",
    "    isAlive() : The isAlive() method is used to check whether a thread is alive or not. A thread is considered alive from\n",
    "                the moment it's started until it terminates"
   ]
  },
  {
   "cell_type": "markdown",
   "id": "5dce22d4",
   "metadata": {},
   "source": [
    "Q4. Write a python program to create two threads. Thread one must print the list of squares and thread\n",
    "   two must print the list of cubes."
   ]
  },
  {
   "cell_type": "code",
   "execution_count": 6,
   "id": "1e3115dc",
   "metadata": {},
   "outputs": [
    {
     "name": "stdout",
     "output_type": "stream",
     "text": [
      "List of Squares:\n",
      "1\n",
      "4\n",
      "9\n",
      "16\n",
      "25\n",
      "36\n",
      "49\n",
      "64\n",
      "81\n",
      "100\n",
      "List of Cubes:\n",
      "1\n",
      "8\n",
      "27\n",
      "64\n",
      "125\n",
      "216\n",
      "343\n",
      "512\n",
      "729\n",
      "1000\n",
      "Main thread exiting...\n"
     ]
    }
   ],
   "source": [
    "import threading\n",
    "\n",
    "def print_sqr():\n",
    "    sqrs = [x * x for x in range(1, 11)]\n",
    "    print(\"List of Squares:\")\n",
    "    for sqr in sqrs:\n",
    "        print(sqr)\n",
    "        \n",
    "def print_cubes():\n",
    "    cubes = [x * x * x for x in range(1, 11)]\n",
    "    print(\"List of Cubes:\")\n",
    "    for cube in cubes:\n",
    "        print(cube)\n",
    "\n",
    "if __name__ == \"__main__\":\n",
    "    # Create threads\n",
    "    thread1 = threading.Thread(target=print_sqr)\n",
    "    thread2 = threading.Thread(target=print_cubes)\n",
    "\n",
    "    # Start threads\n",
    "    thread1.start()\n",
    "    thread2.start()\n",
    "\n",
    "    # Wait for threads to finish\n",
    "    thread1.join()\n",
    "    thread2.join()\n",
    "\n",
    "    print(\"Main thread exiting...\")\n"
   ]
  },
  {
   "cell_type": "markdown",
   "id": "d94d3bdd",
   "metadata": {},
   "source": [
    "Q5. State advantages and disadvantages of multithreading\n",
    "\n",
    "Ans:Advantages of multithreading are:\n",
    "    a)Responsiveness\n",
    "    b)Resource Sharing \n",
    "    b)Economy \n",
    "    c)Scalability  \n",
    "    d)Better Communication \n",
    "    e)Utilization of multiprocessor architecture \n",
    "    f)Minimized system resource usage\n",
    "    \n",
    "    Disadvatages of multithreading are:\n",
    "    It needs more careful synchronization.\n",
    "    It can consume a large space of stocks of blocked threads.\n",
    "    It needs support for thread or process.\n",
    "    If a parent process has several threads for proper process functioning, the child processes\n",
    "    should also be multithreaded because they may be required.\n",
    "    It imposes context switching overhead."
   ]
  },
  {
   "cell_type": "markdown",
   "id": "38575366",
   "metadata": {},
   "source": [
    "Q6. Explain deadlocks and race conditions.\n",
    "\n",
    "Ans:Deadlocks:A deadlock occurs in a multithreaded or multiprocess environment when two or more threads\n",
    "            or processes are unable to proceed with their execution because each is waiting for the other(s) \n",
    "            to release resources or take some action.\n",
    "            \n",
    "    Race Conditions:A race condition occurs when the behavior of a software system depends on the relative \n",
    "                    timing of events, such as the execution sequence of threads or processes. In other words, the outcome\n",
    "                    of the system depends on which thread or process arrives first, leading to unpredictable behavior."
   ]
  },
  {
   "cell_type": "code",
   "execution_count": null,
   "id": "84af9532",
   "metadata": {},
   "outputs": [],
   "source": []
  }
 ],
 "metadata": {
  "kernelspec": {
   "display_name": "Python 3 (ipykernel)",
   "language": "python",
   "name": "python3"
  },
  "language_info": {
   "codemirror_mode": {
    "name": "ipython",
    "version": 3
   },
   "file_extension": ".py",
   "mimetype": "text/x-python",
   "name": "python",
   "nbconvert_exporter": "python",
   "pygments_lexer": "ipython3",
   "version": "3.9.13"
  }
 },
 "nbformat": 4,
 "nbformat_minor": 5
}
